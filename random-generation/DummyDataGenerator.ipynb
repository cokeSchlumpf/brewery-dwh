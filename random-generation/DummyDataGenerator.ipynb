{
 "cells": [
  {
   "cell_type": "markdown",
   "id": "c0032f7e",
   "metadata": {},
   "source": [
    "# Connect to DB"
   ]
  },
  {
   "cell_type": "code",
   "execution_count": 2,
   "id": "da087815",
   "metadata": {},
   "outputs": [
    {
     "name": "stdout",
     "output_type": "stream",
     "text": [
      "Connecting to the PostgreSQL database...\n",
      "Connected\n"
     ]
    }
   ],
   "source": [
    "\"\"\"\n",
    "Create a\"database.ini\"-file, which contains the following information. \n",
    "[postgresql]\n",
    "host=...\n",
    "database=...\n",
    "user=...\n",
    "password=...\n",
    "\"\"\"\n",
    "import psycopg2\n",
    "from config import config\n",
    "\n",
    "try:\n",
    "    params = config()\n",
    "    \n",
    "    print(\"Connecting to the PostgreSQL database...\")\n",
    "    conn = psycopg2.connect(**params)\n",
    "    \n",
    "    cur = conn.cursor()\n",
    "    print(\"Connected\")\n",
    "except(Exception, psycopg2.DatabaseError) as error: \n",
    "    print(error)"
   ]
  },
  {
   "cell_type": "markdown",
   "id": "092a0a5d",
   "metadata": {},
   "source": [
    "# Data Creation and Insertion to DB"
   ]
  },
  {
   "cell_type": "markdown",
   "id": "b7b87088",
   "metadata": {},
   "source": [
    "The data for each table is first randomly created as a list of tuples. After that, the list is being inserted into the corresponding table of the DB. Then, the changes are commited to the DB to avoid errors due to dependencies. Some tables are read so they can be an input for further data generation. This procedure is repeated for all tables in the DB."
   ]
  },
  {
   "cell_type": "code",
   "execution_count": 3,
   "id": "169115c5",
   "metadata": {},
   "outputs": [],
   "source": [
    "import pandas as pd\n",
    "from ReferenceDataGenerator import generate_MA_EMPLOYEES\n",
    "from PDDataGenerator import *\n",
    "from ProductionDataGenerator import *\n",
    "from DB_insert_select import *"
   ]
  },
  {
   "cell_type": "code",
   "execution_count": 4,
   "id": "6c013c3c",
   "metadata": {},
   "outputs": [],
   "source": [
    "num_rows = 200"
   ]
  },
  {
   "cell_type": "markdown",
   "id": "14a35e2d",
   "metadata": {},
   "source": [
    "## Employee "
   ]
  },
  {
   "cell_type": "code",
   "execution_count": 5,
   "id": "872295e1",
   "metadata": {},
   "outputs": [],
   "source": [
    "num_employees = num_rows\n",
    "employees = generate_MA_EMPLOYEES(num_employees,1)\n",
    "insert_into(\"sppl.MA_EMPLOYEES\", 5, employees, cur, conn)\n",
    "emp = pd.read_sql_query(\"SELECT * FROM sppl.MA_EMPLOYEES\", conn)"
   ]
  },
  {
   "cell_type": "markdown",
   "id": "5f4efc44",
   "metadata": {},
   "source": [
    "## Product Development"
   ]
  },
  {
   "cell_type": "code",
   "execution_count": 6,
   "id": "b7d526a2",
   "metadata": {},
   "outputs": [],
   "source": [
    "num_experiments = num_rows\n",
    "pd_experiments = generate_PD_EXPERIMENTS(num_experiments, 1)\n",
    "insert_into(\"sppl.PD_EXPERIMENTS\", 25, pd_experiments, cur, conn)\n",
    "exp = pd.read_sql_query(\"SELECT * FROM sppl.PD_EXPERIMENTS\", conn)"
   ]
  },
  {
   "cell_type": "code",
   "execution_count": 7,
   "id": "f2958202",
   "metadata": {},
   "outputs": [],
   "source": [
    "# for each experiment a random number of ingredients is created\n",
    "pd_ingredients = generate_PD_INGREDIENTS(exp)\n",
    "insert_into(\"sppl.PD_INGREDIENTS\", 6, pd_ingredients, cur, conn)\n",
    "ing = pd.read_sql_query(\"SELECT * FROM sppl.PD_INGREDIENTS\", conn)"
   ]
  },
  {
   "cell_type": "code",
   "execution_count": 8,
   "id": "fe79bebc",
   "metadata": {},
   "outputs": [],
   "source": [
    "pd_internal_ratings = generate_PD_INTERNAL_RATINGS(exp)\n",
    "insert_into(\"sppl.PD_INTERNAL_RATINGS\", 3, pd_internal_ratings, cur, conn)\n",
    "pd_internal_ratings = pd.read_sql_query(\"SELECT * FROM sppl.PD_INTERNAL_RATINGS\", conn)"
   ]
  },
  {
   "cell_type": "code",
   "execution_count": 9,
   "id": "0d1e159e",
   "metadata": {},
   "outputs": [],
   "source": [
    "num_external_ratings = num_rows\n",
    "pd_external_rating_events = generate_PD_EXTERNAL_RATING_EVENTS(num_external_ratings,exp)\n",
    "insert_into(\"sppl.PD_EXTERNAL_RATING_EVENTS\", 14, pd_external_rating_events, cur, conn)"
   ]
  },
  {
   "cell_type": "markdown",
   "id": "13803002",
   "metadata": {},
   "source": [
    "# Production"
   ]
  },
  {
   "cell_type": "code",
   "execution_count": 10,
   "id": "484eb692",
   "metadata": {},
   "outputs": [],
   "source": [
    "#PROD_INGREDIENTS\n",
    "num_ing = num_rows\n",
    "prod_ingredients = generate_PROD_INGREDIENTS(num_ing, 1)\n",
    "insert_into(\"sppl.PROD_INGREDIENTS\", 3, prod_ingredients, cur, conn)\n",
    "ing = pd.read_sql_query(\"SELECT * FROM sppl.PROD_INGREDIENTS\", conn)"
   ]
  },
  {
   "cell_type": "code",
   "execution_count": 11,
   "id": "c146859b",
   "metadata": {},
   "outputs": [],
   "source": [
    "num_rec = num_rows\n",
    "prod_recipies = generate_PROD_RECIPIES(num_rec, 1, emp)\n",
    "insert_into(\"sppl.PROD_RECIPES\", 5, prod_recipies, cur, conn)\n",
    "rec = pd.read_sql_query(\"SELECT * FROM sppl.PROD_RECIPES\", conn)"
   ]
  },
  {
   "cell_type": "code",
   "execution_count": 12,
   "id": "1be9f1a1",
   "metadata": {},
   "outputs": [],
   "source": [
    "num_rec_instruct = num_rows*5\n",
    "prod_recipies_instructions = generate_PROD_RECIPIES_INSTRUCTIONS(num_rows, 1, rec)\n",
    "insert_into(\"sppl.PROD_RECIPES_INSTRUCTIONS\", 3, prod_recipies_instructions, cur, conn)\n",
    "pri = pd.read_sql_query(\"SELECT * FROM sppl.PROD_RECIPES_INSTRUCTIONS\", conn)"
   ]
  },
  {
   "cell_type": "code",
   "execution_count": 13,
   "id": "e7263ca4",
   "metadata": {},
   "outputs": [],
   "source": [
    "num_ing_adds = num_rows\n",
    "prod_ing_add = generate_PROD_RECIPES_INSTRUCTIONS_INGREDIENT_ADDS(num_rows, 1, pri, ing)\n",
    "insert_into(\"sppl.PROD_RECIPES_INSTRUCTIONS_INGREDIENT_ADDS\", 3, prod_ing_add, cur, conn)"
   ]
  },
  {
   "cell_type": "code",
   "execution_count": 14,
   "id": "bc7e3301",
   "metadata": {},
   "outputs": [],
   "source": [
    "num_mash = num_rows\n",
    "prod_mash = generate_PROD_RECIPES_INSTRUCTIONS_MASHINGS(num_mash, 1, pri)\n",
    "insert_into(\"sppl.PROD_RECIPES_INSTRUCTIONS_MASHINGS\", 4, prod_mash, cur, conn)"
   ]
  },
  {
   "cell_type": "code",
   "execution_count": 15,
   "id": "b5f2db6f",
   "metadata": {},
   "outputs": [
    {
     "ename": "UndefinedTable",
     "evalue": "relation \"sppl.prod_recipes_instructions_masging_rests\" does not exist\nLINE 1: INSERT INTO sppl.PROD_RECIPES_INSTRUCTIONS_MASGING_RESTS VAL...\n                    ^\n",
     "output_type": "error",
     "traceback": [
      "\u001b[0;31m---------------------------------------------------------------------------\u001b[0m",
      "\u001b[0;31mUndefinedTable\u001b[0m                            Traceback (most recent call last)",
      "\u001b[0;32m/var/folders/dh/cq8v6cvd5ds12x46xhw605c00000gn/T/ipykernel_26179/807545173.py\u001b[0m in \u001b[0;36m<module>\u001b[0;34m\u001b[0m\n\u001b[1;32m      1\u001b[0m \u001b[0mnum_mash_rest\u001b[0m \u001b[0;34m=\u001b[0m \u001b[0mnum_rows\u001b[0m\u001b[0;34m\u001b[0m\u001b[0;34m\u001b[0m\u001b[0m\n\u001b[1;32m      2\u001b[0m \u001b[0mprod_mash_rest\u001b[0m \u001b[0;34m=\u001b[0m \u001b[0mgenerate_PROD_RECIPES_INSTRUCTIONS_MASHINGS_RESTS\u001b[0m\u001b[0;34m(\u001b[0m\u001b[0mnum_mash_rest\u001b[0m\u001b[0;34m,\u001b[0m \u001b[0;36m1\u001b[0m\u001b[0;34m,\u001b[0m \u001b[0mpri\u001b[0m\u001b[0;34m)\u001b[0m\u001b[0;34m\u001b[0m\u001b[0;34m\u001b[0m\u001b[0m\n\u001b[0;32m----> 3\u001b[0;31m \u001b[0minsert_into\u001b[0m\u001b[0;34m(\u001b[0m\u001b[0;34m\"sppl.PROD_RECIPES_INSTRUCTIONS_MASGING_RESTS\"\u001b[0m\u001b[0;34m,\u001b[0m \u001b[0;36m2\u001b[0m\u001b[0;34m,\u001b[0m \u001b[0mprod_mash_rest\u001b[0m\u001b[0;34m,\u001b[0m \u001b[0mcur\u001b[0m\u001b[0;34m,\u001b[0m \u001b[0mconn\u001b[0m\u001b[0;34m)\u001b[0m\u001b[0;34m\u001b[0m\u001b[0;34m\u001b[0m\u001b[0m\n\u001b[0m",
      "\u001b[0;32m~/git/brewery-dwh/random-generation/DB_insert_select.py\u001b[0m in \u001b[0;36minsert_into\u001b[0;34m(table, column_count, data, cursor, connect)\u001b[0m\n\u001b[1;32m     12\u001b[0m         \u001b[0;32melse\u001b[0m\u001b[0;34m:\u001b[0m\u001b[0;34m\u001b[0m\u001b[0;34m\u001b[0m\u001b[0m\n\u001b[1;32m     13\u001b[0m             \u001b[0msql\u001b[0m \u001b[0;34m+=\u001b[0m \u001b[0;34m\"%s)\"\u001b[0m\u001b[0;34m\u001b[0m\u001b[0;34m\u001b[0m\u001b[0m\n\u001b[0;32m---> 14\u001b[0;31m     \u001b[0mcursor\u001b[0m\u001b[0;34m.\u001b[0m\u001b[0mexecutemany\u001b[0m\u001b[0;34m(\u001b[0m\u001b[0msql\u001b[0m\u001b[0;34m,\u001b[0m \u001b[0mdata\u001b[0m\u001b[0;34m)\u001b[0m\u001b[0;34m\u001b[0m\u001b[0;34m\u001b[0m\u001b[0m\n\u001b[0m\u001b[1;32m     15\u001b[0m     \u001b[0mconnect\u001b[0m\u001b[0;34m.\u001b[0m\u001b[0mcommit\u001b[0m\u001b[0;34m(\u001b[0m\u001b[0;34m)\u001b[0m\u001b[0;34m\u001b[0m\u001b[0;34m\u001b[0m\u001b[0m\n",
      "\u001b[0;31mUndefinedTable\u001b[0m: relation \"sppl.prod_recipes_instructions_masging_rests\" does not exist\nLINE 1: INSERT INTO sppl.PROD_RECIPES_INSTRUCTIONS_MASGING_RESTS VAL...\n                    ^\n"
     ]
    }
   ],
   "source": [
    "num_mash_rest = num_rows\n",
    "prod_mash_rest = generate_PROD_RECIPES_INSTRUCTIONS_MASHINGS_RESTS(num_mash_rest, 1, pri)\n",
    "insert_into(\"sppl.PROD_RECIPES_INSTRUCTIONS_MASGING_RESTS\", 2, prod_mash_rest, cur, conn)"
   ]
  },
  {
   "cell_type": "code",
   "execution_count": 16,
   "id": "9955e7f2",
   "metadata": {},
   "outputs": [
    {
     "ename": "InFailedSqlTransaction",
     "evalue": "current transaction is aborted, commands ignored until end of transaction block\n",
     "output_type": "error",
     "traceback": [
      "\u001b[0;31m---------------------------------------------------------------------------\u001b[0m",
      "\u001b[0;31mInFailedSqlTransaction\u001b[0m                    Traceback (most recent call last)",
      "\u001b[0;32m/var/folders/dh/cq8v6cvd5ds12x46xhw605c00000gn/T/ipykernel_26179/2272313779.py\u001b[0m in \u001b[0;36m<module>\u001b[0;34m\u001b[0m\n\u001b[1;32m      1\u001b[0m \u001b[0mnum_spargings\u001b[0m \u001b[0;34m=\u001b[0m \u001b[0mnum_rows\u001b[0m\u001b[0;34m\u001b[0m\u001b[0;34m\u001b[0m\u001b[0m\n\u001b[1;32m      2\u001b[0m \u001b[0mprod_spargings\u001b[0m \u001b[0;34m=\u001b[0m \u001b[0mgenerate_PROD_RECIPES_INSTRUCTIONS_SPARGINGS\u001b[0m\u001b[0;34m(\u001b[0m\u001b[0mnum_spargings\u001b[0m\u001b[0;34m,\u001b[0m \u001b[0;36m1\u001b[0m\u001b[0;34m,\u001b[0m \u001b[0mpri\u001b[0m\u001b[0;34m)\u001b[0m\u001b[0;34m\u001b[0m\u001b[0;34m\u001b[0m\u001b[0m\n\u001b[0;32m----> 3\u001b[0;31m \u001b[0minsert_into\u001b[0m\u001b[0;34m(\u001b[0m\u001b[0;34m\"sppl.PROD_RECIPES_INSTRUCTIONS_SPARGINGS\"\u001b[0m\u001b[0;34m,\u001b[0m \u001b[0;36m2\u001b[0m\u001b[0;34m,\u001b[0m \u001b[0mprod_spargings\u001b[0m\u001b[0;34m,\u001b[0m \u001b[0mcur\u001b[0m\u001b[0;34m,\u001b[0m \u001b[0mconn\u001b[0m\u001b[0;34m)\u001b[0m\u001b[0;34m\u001b[0m\u001b[0;34m\u001b[0m\u001b[0m\n\u001b[0m",
      "\u001b[0;32m~/git/brewery-dwh/random-generation/DB_insert_select.py\u001b[0m in \u001b[0;36minsert_into\u001b[0;34m(table, column_count, data, cursor, connect)\u001b[0m\n\u001b[1;32m     12\u001b[0m         \u001b[0;32melse\u001b[0m\u001b[0;34m:\u001b[0m\u001b[0;34m\u001b[0m\u001b[0;34m\u001b[0m\u001b[0m\n\u001b[1;32m     13\u001b[0m             \u001b[0msql\u001b[0m \u001b[0;34m+=\u001b[0m \u001b[0;34m\"%s)\"\u001b[0m\u001b[0;34m\u001b[0m\u001b[0;34m\u001b[0m\u001b[0m\n\u001b[0;32m---> 14\u001b[0;31m     \u001b[0mcursor\u001b[0m\u001b[0;34m.\u001b[0m\u001b[0mexecutemany\u001b[0m\u001b[0;34m(\u001b[0m\u001b[0msql\u001b[0m\u001b[0;34m,\u001b[0m \u001b[0mdata\u001b[0m\u001b[0;34m)\u001b[0m\u001b[0;34m\u001b[0m\u001b[0;34m\u001b[0m\u001b[0m\n\u001b[0m\u001b[1;32m     15\u001b[0m     \u001b[0mconnect\u001b[0m\u001b[0;34m.\u001b[0m\u001b[0mcommit\u001b[0m\u001b[0;34m(\u001b[0m\u001b[0;34m)\u001b[0m\u001b[0;34m\u001b[0m\u001b[0;34m\u001b[0m\u001b[0m\n",
      "\u001b[0;31mInFailedSqlTransaction\u001b[0m: current transaction is aborted, commands ignored until end of transaction block\n"
     ]
    }
   ],
   "source": [
    "num_spargings = num_rows\n",
    "prod_spargings = generate_PROD_RECIPES_INSTRUCTIONS_SPARGINGS(num_spargings, 1, pri)\n",
    "insert_into(\"sppl.PROD_RECIPES_INSTRUCTIONS_SPARGINGS\", 2, prod_spargings, cur, conn)"
   ]
  },
  {
   "cell_type": "code",
   "execution_count": 16,
   "id": "5b615825",
   "metadata": {},
   "outputs": [],
   "source": [
    "num_boilings = num_rows\n",
    "prod_boilings = generate_PROD_RECIPES_INSTRUCTIONS_BOILINGS(num_boilings, 1, pri)\n",
    "insert_into(\"sppl.PROD_RECIPES_INSTRUCTIONS_BOILINGS\", 2, prod_boilings, cur, conn)"
   ]
  },
  {
   "cell_type": "markdown",
   "id": "9ac421d6",
   "metadata": {},
   "source": [
    "Ingredient Products:"
   ]
  },
  {
   "cell_type": "code",
   "execution_count": 17,
   "id": "740d93ce",
   "metadata": {},
   "outputs": [],
   "source": [
    "num_ing_prod = num_rows\n",
    "prod_ing_prod = generate_PROD_INGREDIENT_PRODUCTS(num_ing_prod, 1, ing)\n",
    "insert_into(\"sppl.PROD_INGREDIENT_PRODUCTS\", 5, prod_ing_prod, cur, conn)\n",
    "ing_prod = pd.read_sql_query(\"SELECT * FROM sppl.PROD_INGREDIENT_PRODUCTS\", conn)"
   ]
  },
  {
   "cell_type": "markdown",
   "id": "1fdbd3b5",
   "metadata": {},
   "source": [
    "Brews main table:"
   ]
  },
  {
   "cell_type": "code",
   "execution_count": 18,
   "id": "27c7db3c",
   "metadata": {},
   "outputs": [],
   "source": [
    "num_brews = num_rows*7\n",
    "prod_brews = generate_PROD_BREWS(num_brews, 1, emp, rec)\n",
    "insert_into(\"sppl.PROD_BREWS\", 7, prod_brews, cur, conn)\n",
    "brews = pd.read_sql_query(\"SELECT * FROM sppl.PROD_BREWS\", conn)"
   ]
  },
  {
   "cell_type": "markdown",
   "id": "99afc244",
   "metadata": {},
   "source": [
    "Brew events:"
   ]
  },
  {
   "cell_type": "code",
   "execution_count": 19,
   "id": "5f495906",
   "metadata": {},
   "outputs": [],
   "source": [
    "num_brews_ing_add = num_rows\n",
    "prod_brews_ing_add = generate_PROD_BREWS_INGREDIENT_ADDS(num_brews, 1, brews, ing_prod)\n",
    "insert_into(\"sppl.PROD_BREWS_INGREDIENT_ADDS\", 4, prod_brews_ing_add, cur, conn)"
   ]
  },
  {
   "cell_type": "code",
   "execution_count": 20,
   "id": "ec39e859",
   "metadata": {},
   "outputs": [],
   "source": [
    "num_brews_mash = num_rows\n",
    "prod_brews_mash = generate_PROD_BREWS_MASHINGS(num_brews_mash, 1, brews)\n",
    "insert_into(\"sppl.PROD_BREWS_MASHINGS\", 5, prod_brews_mash, cur, conn)"
   ]
  },
  {
   "cell_type": "code",
   "execution_count": 21,
   "id": "dadc8888",
   "metadata": {},
   "outputs": [],
   "source": [
    "num_brews_mash_rest = num_rows\n",
    "prod_brews_mash_rest = generate_PROD_BREWS_MASHINGS_RESTS(num_brews_mash_rest, 1, brews)\n",
    "insert_into(\"sppl.PROD_BREWS_MASHING_RESTS\", 3, prod_brews_mash_rest, cur, conn)"
   ]
  },
  {
   "cell_type": "code",
   "execution_count": 22,
   "id": "a6761af5",
   "metadata": {},
   "outputs": [],
   "source": [
    "num_brews_spargings = num_rows\n",
    "prod_brews_spargings = generate_PROD_BREWS_SPARGINGS(num_brews_spargings, 1, brews)\n",
    "insert_into(\"sppl.PROD_BREWS_SPARGINGS\", 3, prod_brews_spargings, cur, conn)"
   ]
  },
  {
   "cell_type": "code",
   "execution_count": 23,
   "id": "7a1b4250",
   "metadata": {},
   "outputs": [],
   "source": [
    "num_brews_boilings = num_rows\n",
    "prod_brews_boilings = generate_PROD_BREW_BOILINGS(num_brews_boilings, 1, brews)\n",
    "insert_into(\"sppl.PROD_BREWS_BOILINGS\", 3, prod_brews_boilings, cur, conn)"
   ]
  },
  {
   "cell_type": "code",
   "execution_count": 24,
   "id": "af8a8b92",
   "metadata": {},
   "outputs": [],
   "source": [
    "num_brews_hop = num_rows\n",
    "prod_brews_hop = generate_PROD_BREWS_HOP_ADDINGS(num_brews_hop, 1, brews)\n",
    "insert_into(\"sppl.PROD_BREWS_HOP_ADDINGS\", 3, prod_brews_hop, cur, conn)"
   ]
  },
  {
   "cell_type": "code",
   "execution_count": 25,
   "id": "cd247094",
   "metadata": {},
   "outputs": [],
   "source": [
    "num_brews_yeast = num_rows\n",
    "prod_brews_yeast = generate_PROD_BREWS_YEAST_ADDINGS(num_brews_yeast, 1, brews)\n",
    "insert_into(\"sppl.PROD_BREWS_YEAST_ADDINGS\", 3, prod_brews_yeast, cur, conn)"
   ]
  },
  {
   "cell_type": "markdown",
   "id": "f30d654f",
   "metadata": {},
   "source": [
    "Bottlings:"
   ]
  },
  {
   "cell_type": "code",
   "execution_count": 26,
   "id": "3b03c348",
   "metadata": {},
   "outputs": [],
   "source": [
    "num_bottlings = num_rows\n",
    "prod_bottlings = generate_PROD_BOTTLINGS(num_bottlings, 1, brews)\n",
    "insert_into(\"sppl.PROD_BOTTLINGS\", 6, prod_bottlings, cur, conn)"
   ]
  },
  {
   "cell_type": "code",
   "execution_count": 27,
   "id": "206425e8",
   "metadata": {},
   "outputs": [],
   "source": [
    "cur.close()\n",
    "conn.close()"
   ]
  },
  {
   "cell_type": "code",
   "execution_count": null,
   "id": "2e3b75cd",
   "metadata": {},
   "outputs": [],
   "source": []
  }
 ],
 "metadata": {
  "kernelspec": {
   "display_name": "Python 3 (ipykernel)",
   "language": "python",
   "name": "python3"
  },
  "language_info": {
   "codemirror_mode": {
    "name": "ipython",
    "version": 3
   },
   "file_extension": ".py",
   "mimetype": "text/x-python",
   "name": "python",
   "nbconvert_exporter": "python",
   "pygments_lexer": "ipython3",
   "version": "3.8.12"
  }
 },
 "nbformat": 4,
 "nbformat_minor": 5
}
