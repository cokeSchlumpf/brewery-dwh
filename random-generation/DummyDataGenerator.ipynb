{
 "cells": [
  {
   "cell_type": "markdown",
   "id": "c0032f7e",
   "metadata": {},
   "source": [
    "# Connect to DB"
   ]
  },
  {
   "cell_type": "code",
   "execution_count": null,
   "id": "da087815",
   "metadata": {},
   "outputs": [],
   "source": [
    "\"\"\"\n",
    "Create a\"database.ini\"-file, which contains the following information. \n",
    "[postgresql]\n",
    "host=...\n",
    "database=...\n",
    "user=...\n",
    "password=...\n",
    "\"\"\"\n",
    "import psycopg2\n",
    "from config import config\n",
    "\n",
    "try:\n",
    "    params = config()\n",
    "    print(\"Connecting to the PostgreSQL database...\")\n",
    "    conn = psycopg2.connect(**params)\n",
    "    \n",
    "    cur = conn.cursor()\n",
    "    print(\"Connected\")\n",
    "except(Exception, psycopg2.DatabaseError) as error: \n",
    "    print(error)"
   ]
  },
  {
   "cell_type": "markdown",
   "id": "092a0a5d",
   "metadata": {},
   "source": [
    "# Data Creation and Insertion to DB"
   ]
  },
  {
   "cell_type": "markdown",
   "id": "b7b87088",
   "metadata": {},
   "source": [
    "The data for each table is first randomly created as a list of tuples. After that, the list is being inserted into the corresponding table of the DB. Then, the changes are commited to the DB to avoid errors due to dependencies. Some tables are read so they can be an input for further data generation. This procedure is repeated for all tables in the DB."
   ]
  },
  {
   "cell_type": "code",
   "execution_count": null,
   "id": "169115c5",
   "metadata": {},
   "outputs": [],
   "source": [
    "import pandas as pd\n",
    "from ReferenceDataGenerator import generate_MA_EMPLOYEES\n",
    "from PDDataGenerator import *\n",
    "from ProductionDataGenerator import *\n",
    "from SalesDataGenerator import *\n",
    "from DB_insert_select import *"
   ]
  },
  {
   "cell_type": "code",
   "execution_count": null,
   "id": "6c013c3c",
   "metadata": {},
   "outputs": [],
   "source": [
    "num_rows = 300"
   ]
  },
  {
   "cell_type": "markdown",
   "id": "14a35e2d",
   "metadata": {},
   "source": [
    "## Employee "
   ]
  },
  {
   "cell_type": "code",
   "execution_count": null,
   "id": "872295e1",
   "metadata": {},
   "outputs": [],
   "source": [
    "num_employees = num_rows\n",
    "employees = generate_MA_EMPLOYEES(num_employees,1)\n",
    "insert_into(\"sppl.MA_EMPLOYEES\", 5, employees, cur, conn)\n",
    "emp = pd.read_sql_query(\"SELECT * FROM sppl.MA_EMPLOYEES\", conn)"
   ]
  },
  {
   "cell_type": "markdown",
   "id": "5f4efc44",
   "metadata": {},
   "source": [
    "## Product Development"
   ]
  },
  {
   "cell_type": "code",
   "execution_count": null,
   "id": "b7d526a2",
   "metadata": {},
   "outputs": [],
   "source": [
    "num_experiments = num_rows\n",
    "pd_experiments, cols = generate_PD_EXPERIMENTS(num_experiments, 1)\n",
    "insert_into(\"sppl.PD_EXPERIMENTS\", 24, pd_experiments, cur, conn, col = cols)\n",
    "exp = pd.read_sql_query(\"SELECT * FROM sppl.PD_EXPERIMENTS\", conn)"
   ]
  },
  {
   "cell_type": "code",
   "execution_count": null,
   "id": "f2958202",
   "metadata": {},
   "outputs": [],
   "source": [
    "num_ingredients = num_rows\n",
    "pd_ingredients, cols = generate_PD_INGREDIENTS(num_ingredients, exp)\n",
    "insert_into(\"sppl.PD_INGREDIENTS\", 5, pd_ingredients, cur, conn, col = cols)\n",
    "ing = pd.read_sql_query(\"SELECT * FROM sppl.PD_INGREDIENTS\", conn)"
   ]
  },
  {
   "cell_type": "code",
   "execution_count": null,
   "id": "fe79bebc",
   "metadata": {},
   "outputs": [],
   "source": [
    "num_internal_ratings = num_rows\n",
    "existing_internal_ratings = pd.read_sql_query(\"SELECT * FROM sppl.PD_INTERNAL_RATINGS\", conn)\n",
    "pd_internal_ratings = generate_PD_INTERNAL_RATINGS(num_rows, exp,existing_internal_ratings)\n",
    "insert_into(\"sppl.pd_internal_ratings\", 3, pd_internal_ratings, cur, conn)\n",
    "pd_internal_ratings = pd.read_sql_query(\"SELECT * FROM sppl.PD_INTERNAL_RATINGS\", conn)"
   ]
  },
  {
   "cell_type": "code",
   "execution_count": null,
   "id": "0d1e159e",
   "metadata": {},
   "outputs": [],
   "source": [
    "num_external_ratings = num_rows\n",
    "existing_external_ratings = pd.read_sql_query(\"SELECT * FROM sppl.PD_EXTERNAL_RATING_EVENTS\", conn)\n",
    "pd_external_rating_events = generate_PD_EXTERNAL_RATING_EVENTS(num_external_ratings,exp, existing_external_ratings)\n",
    "insert_into(\"sppl.PD_EXTERNAL_RATING_EVENTS\", 14, pd_external_rating_events, cur, conn)"
   ]
  },
  {
   "cell_type": "markdown",
   "id": "13803002",
   "metadata": {},
   "source": [
    "# Production"
   ]
  },
  {
   "cell_type": "code",
   "execution_count": null,
   "id": "484eb692",
   "metadata": {},
   "outputs": [],
   "source": [
    "#PROD_INGREDIENTS\n",
    "num_ing = num_rows\n",
    "prod_ingredients, cols = generate_PROD_INGREDIENTS(num_ing, 1)\n",
    "insert_into(\"sppl.PROD_INGREDIENTS\", 2, prod_ingredients, cur, conn, col = cols)\n",
    "ing = pd.read_sql_query(\"SELECT * FROM sppl.PROD_INGREDIENTS\", conn)"
   ]
  },
  {
   "cell_type": "code",
   "execution_count": null,
   "id": "c146859b",
   "metadata": {},
   "outputs": [],
   "source": [
    "num_rec = num_rows\n",
    "prod_recipies = generate_PROD_RECIPIES(num_rec, 1, emp)\n",
    "insert_into(\"sppl.PROD_RECIPES\", 5, prod_recipies, cur, conn)\n",
    "rec = pd.read_sql_query(\"SELECT * FROM sppl.PROD_RECIPES\", conn)"
   ]
  },
  {
   "cell_type": "code",
   "execution_count": null,
   "id": "1be9f1a1",
   "metadata": {},
   "outputs": [],
   "source": [
    "num_rec_instruct = num_rows*5\n",
    "prod_recipies_instructions, cols = generate_PROD_RECIPIES_INSTRUCTIONS(num_rows, rec)\n",
    "insert_into(\"sppl.PROD_RECIPES_INSTRUCTIONS\", 2, prod_recipies_instructions, cur, conn, col = cols)\n",
    "pri = pd.read_sql_query(\"SELECT * FROM sppl.PROD_RECIPES_INSTRUCTIONS\", conn)"
   ]
  },
  {
   "cell_type": "code",
   "execution_count": null,
   "id": "e7263ca4",
   "metadata": {},
   "outputs": [],
   "source": [
    "num_ing_adds = num_rows\n",
    "prod_ing_add = generate_PROD_RECIPES_INSTRUCTIONS_INGREDIENT_ADDS(num_rows, 1, pri, ing)\n",
    "insert_into(\"sppl.PROD_RECIPES_INSTRUCTIONS_INGREDIENT_ADDS\", 3, prod_ing_add, cur, conn)"
   ]
  },
  {
   "cell_type": "code",
   "execution_count": null,
   "id": "bc7e3301",
   "metadata": {},
   "outputs": [],
   "source": [
    "num_mash = num_rows\n",
    "prod_mash = generate_PROD_RECIPES_INSTRUCTIONS_MASHINGS(num_mash, 1, pri)\n",
    "insert_into(\"sppl.PROD_RECIPES_INSTRUCTIONS_MASHINGS\", 4, prod_mash, cur, conn)"
   ]
  },
  {
   "cell_type": "code",
   "execution_count": null,
   "id": "b5f2db6f",
   "metadata": {},
   "outputs": [],
   "source": [
    "num_mash_rest = num_rows\n",
    "prod_mash_rest = generate_PROD_RECIPES_INSTRUCTIONS_MASHINGS_RESTS(num_mash_rest, 1, pri)\n",
    "insert_into(\"sppl.PROD_RECIPES_INSTRUCTIONS_MASHING_RESTS\", 2, prod_mash_rest, cur, conn)"
   ]
  },
  {
   "cell_type": "code",
   "execution_count": null,
   "id": "9955e7f2",
   "metadata": {},
   "outputs": [],
   "source": [
    "num_spargings = num_rows\n",
    "prod_spargings = generate_PROD_RECIPES_INSTRUCTIONS_SPARGINGS(num_spargings, 1, pri)\n",
    "insert_into(\"sppl.PROD_RECIPES_INSTRUCTIONS_SPARGINGS\", 2, prod_spargings, cur, conn)"
   ]
  },
  {
   "cell_type": "code",
   "execution_count": null,
   "id": "5b615825",
   "metadata": {},
   "outputs": [],
   "source": [
    "num_boilings = num_rows\n",
    "prod_boilings = generate_PROD_RECIPES_INSTRUCTIONS_BOILINGS(num_boilings, 1, pri)\n",
    "insert_into(\"sppl.PROD_RECIPES_INSTRUCTIONS_BOILINGS\", 2, prod_boilings, cur, conn)"
   ]
  },
  {
   "cell_type": "markdown",
   "id": "9ac421d6",
   "metadata": {},
   "source": [
    "Ingredient Products:"
   ]
  },
  {
   "cell_type": "code",
   "execution_count": null,
   "id": "740d93ce",
   "metadata": {},
   "outputs": [],
   "source": [
    "num_ing_prod = num_rows\n",
    "prod_ing_prod, cols = generate_PROD_INGREDIENT_PRODUCTS(num_ing_prod, 1, ing)\n",
    "insert_into(\"sppl.PROD_INGREDIENT_PRODUCTS\", 4, prod_ing_prod, cur, conn, col = cols)\n",
    "ing_prod = pd.read_sql_query(\"SELECT * FROM sppl.PROD_INGREDIENT_PRODUCTS\", conn)"
   ]
  },
  {
   "cell_type": "markdown",
   "id": "1fdbd3b5",
   "metadata": {},
   "source": [
    "Brews main table:"
   ]
  },
  {
   "cell_type": "code",
   "execution_count": null,
   "id": "27c7db3c",
   "metadata": {},
   "outputs": [],
   "source": [
    "num_brews = num_rows*7\n",
    "prod_brews, cols = generate_PROD_BREWS(num_brews, 1, emp, rec)\n",
    "insert_into(\"sppl.PROD_BREWS\", 6, prod_brews, cur, conn, col = cols)\n",
    "brews = pd.read_sql_query(\"SELECT * FROM sppl.PROD_BREWS\", conn)"
   ]
  },
  {
   "cell_type": "markdown",
   "id": "99afc244",
   "metadata": {},
   "source": [
    "Brew events:"
   ]
  },
  {
   "cell_type": "code",
   "execution_count": null,
   "id": "5f495906",
   "metadata": {},
   "outputs": [],
   "source": [
    "num_brews_ing_add = num_rows\n",
    "prod_brews_ing_add = generate_PROD_BREWS_INGREDIENT_ADDS(num_brews, 1, brews, ing_prod)\n",
    "insert_into(\"sppl.PROD_BREWS_INGREDIENT_ADDS\", 4, prod_brews_ing_add, cur, conn)"
   ]
  },
  {
   "cell_type": "code",
   "execution_count": null,
   "id": "ec39e859",
   "metadata": {},
   "outputs": [],
   "source": [
    "num_brews_mash = num_rows\n",
    "prod_brews_mash = generate_PROD_BREWS_MASHINGS(num_brews_mash, 1, brews)\n",
    "insert_into(\"sppl.PROD_BREWS_MASHINGS\", 5, prod_brews_mash, cur, conn)"
   ]
  },
  {
   "cell_type": "code",
   "execution_count": null,
   "id": "dadc8888",
   "metadata": {},
   "outputs": [],
   "source": [
    "num_brews_mash_rest = num_rows\n",
    "prod_brews_mash_rest = generate_PROD_BREWS_MASHINGS_RESTS(num_brews_mash_rest, 1, brews)\n",
    "insert_into(\"sppl.PROD_BREWS_MASHING_RESTS\", 3, prod_brews_mash_rest, cur, conn)"
   ]
  },
  {
   "cell_type": "code",
   "execution_count": null,
   "id": "a6761af5",
   "metadata": {},
   "outputs": [],
   "source": [
    "num_brews_spargings = num_rows\n",
    "prod_brews_spargings = generate_PROD_BREWS_SPARGINGS(num_brews_spargings, 1, brews)\n",
    "insert_into(\"sppl.PROD_BREWS_SPARGINGS\", 3, prod_brews_spargings, cur, conn)"
   ]
  },
  {
   "cell_type": "code",
   "execution_count": null,
   "id": "7a1b4250",
   "metadata": {},
   "outputs": [],
   "source": [
    "num_brews_boilings = num_rows\n",
    "prod_brews_boilings = generate_PROD_BREW_BOILINGS(num_brews_boilings, 1, brews)\n",
    "insert_into(\"sppl.PROD_BREWS_BOILINGS\", 3, prod_brews_boilings, cur, conn)"
   ]
  },
  {
   "cell_type": "code",
   "execution_count": null,
   "id": "af8a8b92",
   "metadata": {},
   "outputs": [],
   "source": [
    "\"\"\"\n",
    "Table removed from DB\n",
    "num_brews_hop = num_rows\n",
    "prod_brews_hop = generate_PROD_BREWS_HOP_ADDINGS(num_brews_hop, 1, brews)\n",
    "insert_into(\"sppl.PROD_BREWS_HOP_ADDINGS\", 3, prod_brews_hop, cur, conn)\n",
    "\"\"\""
   ]
  },
  {
   "cell_type": "code",
   "execution_count": null,
   "id": "cd247094",
   "metadata": {},
   "outputs": [],
   "source": [
    "\"\"\"\n",
    "Table removed from DB\n",
    "num_brews_yeast = num_rows\n",
    "prod_brews_yeast = generate_PROD_BREWS_YEAST_ADDINGS(num_brews_yeast, 1, brews)\n",
    "insert_into(\"sppl.PROD_BREWS_YEAST_ADDINGS\", 3, prod_brews_yeast, cur, conn)\n",
    "\"\"\""
   ]
  },
  {
   "cell_type": "markdown",
   "id": "b113c5de",
   "metadata": {},
   "source": [
    "# Sales"
   ]
  },
  {
   "cell_type": "code",
   "execution_count": null,
   "id": "17193741",
   "metadata": {},
   "outputs": [],
   "source": [
    "num_customers = num_rows\n",
    "sales_customers, cols = generate_SALES_CUSTOMERS(num_customers)\n",
    "insert_into(\"sppl.SALES_CUSTOMERS\", 6, sales_customers, cur, conn, col = cols)\n",
    "sales_customers = pd.read_sql_query(\"SELECT * FROM sppl.SALES_CUSTOMERS\", conn)"
   ]
  },
  {
   "cell_type": "code",
   "execution_count": null,
   "id": "c57e89d0",
   "metadata": {},
   "outputs": [],
   "source": [
    "num_products = num_rows\n",
    "sales_product, cols = generate_SALES_PRODUCT(num_products, rec)\n",
    "insert_into(\"sppl.SALES_PRODUCT\", 4, sales_product, cur, conn, col = cols)\n",
    "sales_product = pd.read_sql_query(\"SELECT * FROM sppl.SALES_PRODUCT\", conn)"
   ]
  },
  {
   "cell_type": "code",
   "execution_count": null,
   "id": "7df4de91",
   "metadata": {},
   "outputs": [],
   "source": [
    "num_bottlings = num_rows\n",
    "sales_product_db = pd.read_sql_query(\"SELECT * FROM sppl.SALES_BOTTLINGS\", conn)\n",
    "sales_bottlings, cols = generate_SALES_BOTTLINGS(num_bottlings, sales_product, sales_product_db)\n",
    "insert_into(\"sppl.SALES_BOTTLINGS\", 4, sales_bottlings, cur, conn, col = cols)\n",
    "sales_product = pd.read_sql_query(\"SELECT * FROM sppl.SALES_BOTTLINGS\", conn)"
   ]
  },
  {
   "cell_type": "code",
   "execution_count": null,
   "id": "f8e9ad0b",
   "metadata": {
    "scrolled": true
   },
   "outputs": [],
   "source": [
    "num_stock_product = num_rows\n",
    "sales_stock_products_db = pd.read_sql_query(\"SELECT * FROM sppl.SALES_STOCK_PRODUCT\", conn)\n",
    "sales_stock_products = generate_SALES_STOCK_PRODUCT(num_stock_product, sales_product, sales_stock_products_db)\n",
    "insert_into(\"sppl.SALES_STOCK_PRODUCT\", 3, sales_stock_products, cur, conn)"
   ]
  },
  {
   "cell_type": "code",
   "execution_count": null,
   "id": "44b22e89",
   "metadata": {},
   "outputs": [],
   "source": [
    "num_orders = num_rows\n",
    "sales_orders,cols = generate_SALES_ORDER(num_orders, sales_customers)\n",
    "insert_into(\"sppl.SALES_ORDER\", 3, sales_orders, cur, conn, col = cols)\n",
    "sales_orders = pd.read_sql_query(\"SELECT * FROM sppl.SALES_ORDER\", conn)"
   ]
  },
  {
   "cell_type": "code",
   "execution_count": null,
   "id": "7cdf9f5e",
   "metadata": {},
   "outputs": [],
   "source": [
    "num_order_items = num_orders*3\n",
    "sales_order_items_db = pd.read_sql_query(\"SELECT * FROM sppl.SALES_ORDER_ITEM\", conn)\n",
    "sales_order_items = generate_SALES_ORDER_ITEM(num_orders, sales_orders, sales_product,sales_order_items_db)\n",
    "insert_into(\"sppl.SALES_ORDER_ITEM\", 3, sales_order_items, cur, conn)\n",
    "sales_order_items = pd.read_sql_query(\"SELECT * FROM sppl.SALES_ORDER_ITEM\", conn)"
   ]
  },
  {
   "cell_type": "code",
   "execution_count": null,
   "id": "206425e8",
   "metadata": {},
   "outputs": [],
   "source": [
    "cur.close()\n",
    "conn.close()"
   ]
  }
 ],
 "metadata": {
  "kernelspec": {
   "display_name": "KPMG_Brewery",
   "language": "python",
   "name": "kpmg_brewery"
  },
  "language_info": {
   "codemirror_mode": {
    "name": "ipython",
    "version": 3
   },
   "file_extension": ".py",
   "mimetype": "text/x-python",
   "name": "python",
   "nbconvert_exporter": "python",
   "pygments_lexer": "ipython3",
   "version": "3.7.12"
  }
 },
 "nbformat": 4,
 "nbformat_minor": 5
}
